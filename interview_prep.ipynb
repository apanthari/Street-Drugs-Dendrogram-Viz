{
 "cells": [
  {
   "cell_type": "markdown",
   "metadata": {},
   "source": [
    "fibonacci sequence"
   ]
  },
  {
   "cell_type": "code",
   "execution_count": null,
   "metadata": {},
   "outputs": [],
   "source": []
  },
  {
   "cell_type": "markdown",
   "metadata": {},
   "source": [
    "remove duplicated values from list"
   ]
  },
  {
   "cell_type": "code",
   "execution_count": 2,
   "metadata": {},
   "outputs": [
    {
     "data": {
      "text/plain": [
       "[1, 1, 2, 3, 4]"
      ]
     },
     "execution_count": 2,
     "metadata": {},
     "output_type": "execute_result"
    }
   ],
   "source": [
    "#not in place \n",
    "nums = [1, 1, 2, 2, 2]\n",
    "\n",
    "def removeDuplicate(nums):\n",
    "    n = len(nums)\n",
    "    temp = list(range(n))\n",
    "    j = 0 #counter for temp\n",
    "    for i in range(n-1):\n",
    "        if nums[i] != nums[i+1]:\n",
    "            temp[j] = nums[i]\n",
    "            j += 1\n",
    "    \n",
    "    return temp\n",
    "\n",
    "removeDuplicate(nums)"
   ]
  },
  {
   "cell_type": "code",
   "execution_count": 3,
   "metadata": {},
   "outputs": [
    {
     "data": {
      "text/plain": [
       "[1, 2, 3, 4, 5, 6, 7, 10]"
      ]
     },
     "execution_count": 3,
     "metadata": {},
     "output_type": "execute_result"
    }
   ],
   "source": [
    "# in-place\n",
    "a = [1, 2, 3, 3, 3, 4, 5, 6, 6, 6, 7, 10, 10]\n",
    "for i in range(len(a)-1,0,-1):\n",
    "    if a[i] == a[i-1]:\n",
    "        del a[i]\n",
    "\n",
    "a"
   ]
  },
  {
   "cell_type": "markdown",
   "metadata": {},
   "source": [
    "Detect a Palindrome"
   ]
  },
  {
   "cell_type": "code",
   "execution_count": 21,
   "metadata": {},
   "outputs": [
    {
     "data": {
      "text/plain": [
       "True"
      ]
     },
     "execution_count": 21,
     "metadata": {},
     "output_type": "execute_result"
    }
   ],
   "source": [
    "#checking if its a palindrome\n",
    "s = \"amanaplanacanalpanama\"\n",
    "\n",
    "def isPal(s):\n",
    "    for i in range(int(len(s)/2)):\n",
    "        if s[i] != s[len(s)-i-1]:\n",
    "            return False\n",
    "    \n",
    "    return True\n",
    "\n",
    "isPal(s)"
   ]
  },
  {
   "cell_type": "code",
   "execution_count": 25,
   "metadata": {},
   "outputs": [
    {
     "data": {
      "text/plain": [
       "False"
      ]
     },
     "execution_count": 25,
     "metadata": {},
     "output_type": "execute_result"
    }
   ],
   "source": [
    "#native approach for python\n",
    "\n",
    "def isPalnative(s): \n",
    "    converted_list = []\n",
    "    s = s.lower()\n",
    "    for i in s: \n",
    "        if i.isalnum():\n",
    "            converted_list.append(i)\n",
    "    if converted_list == converted_list[::-1]:\n",
    "        return True\n",
    "    else: \n",
    "        return False\n",
    "\n",
    "    \n",
    "isPalnative(\"tyopwyt\")"
   ]
  },
  {
   "cell_type": "code",
   "execution_count": 37,
   "metadata": {},
   "outputs": [
    {
     "ename": "IndexError",
     "evalue": "list index out of range",
     "output_type": "error",
     "traceback": [
      "\u001b[1;31m---------------------------------------------------------------------------\u001b[0m",
      "\u001b[1;31mIndexError\u001b[0m                                Traceback (most recent call last)",
      "Cell \u001b[1;32mIn[37], line 11\u001b[0m\n\u001b[0;32m      7\u001b[0m             \u001b[38;5;28;01mreturn\u001b[39;00m value\n\u001b[0;32m      8\u001b[0m         nums\u001b[38;5;241m.\u001b[39mremove(value) \n\u001b[1;32m---> 11\u001b[0m \u001b[43msingleNumber\u001b[49m\u001b[43m(\u001b[49m\u001b[43m[\u001b[49m\u001b[38;5;241;43m1\u001b[39;49m\u001b[43m,\u001b[49m\u001b[43m \u001b[49m\u001b[38;5;241;43m2\u001b[39;49m\u001b[43m,\u001b[49m\u001b[43m \u001b[49m\u001b[38;5;241;43m2\u001b[39;49m\u001b[43m,\u001b[49m\u001b[43m \u001b[49m\u001b[38;5;241;43m3\u001b[39;49m\u001b[43m,\u001b[49m\u001b[43m \u001b[49m\u001b[38;5;241;43m4\u001b[39;49m\u001b[43m,\u001b[49m\u001b[43m \u001b[49m\u001b[38;5;241;43m5\u001b[39;49m\u001b[43m,\u001b[49m\u001b[43m \u001b[49m\u001b[38;5;241;43m5\u001b[39;49m\u001b[43m,\u001b[49m\u001b[43m \u001b[49m\u001b[38;5;241;43m4\u001b[39;49m\u001b[43m]\u001b[49m\u001b[43m)\u001b[49m\n",
      "Cell \u001b[1;32mIn[37], line 4\u001b[0m, in \u001b[0;36msingleNumber\u001b[1;34m(nums)\u001b[0m\n\u001b[0;32m      1\u001b[0m \u001b[38;5;28;01mdef\u001b[39;00m \u001b[38;5;21msingleNumber\u001b[39m(nums):\n\u001b[0;32m      2\u001b[0m     \u001b[38;5;28;01mfor\u001b[39;00m i \u001b[38;5;129;01min\u001b[39;00m \u001b[38;5;28mrange\u001b[39m(\u001b[38;5;28mlen\u001b[39m(nums)\u001b[38;5;241m-\u001b[39m\u001b[38;5;241m1\u001b[39m, \u001b[38;5;241m0\u001b[39m, \u001b[38;5;241m-\u001b[39m\u001b[38;5;241m1\u001b[39m):\n\u001b[0;32m      3\u001b[0m         \u001b[38;5;66;03m#print(nums[i])\u001b[39;00m\n\u001b[1;32m----> 4\u001b[0m         value \u001b[38;5;241m=\u001b[39m \u001b[43mnums\u001b[49m\u001b[43m[\u001b[49m\u001b[43mi\u001b[49m\u001b[43m]\u001b[49m\n\u001b[0;32m      5\u001b[0m         \u001b[38;5;28;01mdel\u001b[39;00m nums[i] \n\u001b[0;32m      6\u001b[0m         \u001b[38;5;28;01mif\u001b[39;00m value \u001b[38;5;129;01mnot\u001b[39;00m \u001b[38;5;129;01min\u001b[39;00m nums: \n",
      "\u001b[1;31mIndexError\u001b[0m: list index out of range"
     ]
    }
   ],
   "source": [
    "def singleNumber(nums):\n",
    "    for i in range(len(nums)-1, 0, -1):\n",
    "        #print(nums[i])\n",
    "        value = nums[i]\n",
    "        del nums[i] \n",
    "        if value not in nums: \n",
    "            return value\n",
    "        nums.remove(value) \n",
    "\n",
    "    \n",
    "singleNumber([1, 2, 2, 3, 4, 5, 5, 4])\n",
    "\n"
   ]
  }
 ],
 "metadata": {
  "kernelspec": {
   "display_name": "Python 3",
   "language": "python",
   "name": "python3"
  },
  "language_info": {
   "codemirror_mode": {
    "name": "ipython",
    "version": 3
   },
   "file_extension": ".py",
   "mimetype": "text/x-python",
   "name": "python",
   "nbconvert_exporter": "python",
   "pygments_lexer": "ipython3",
   "version": "3.12.3"
  }
 },
 "nbformat": 4,
 "nbformat_minor": 2
}
